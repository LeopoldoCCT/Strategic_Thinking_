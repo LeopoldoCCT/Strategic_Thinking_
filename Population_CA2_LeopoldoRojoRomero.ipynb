{
 "cells": [
  {
   "cell_type": "markdown",
   "id": "2f7ae5b2",
   "metadata": {},
   "source": [
    "## Population in Ireland: Where are we heading to?"
   ]
  },
  {
   "cell_type": "markdown",
   "id": "2570c768",
   "metadata": {},
   "source": [
    "- Observe the population growth/decline in Ireland from 1960 to 2022.\n",
    "- Analyse the correlation between the number of births, deaths and marriages, been determining factors in population growth/decline.\n",
    "- Find an optimal machine learning model that makes projections into the future regarding Ireland’s population.\n",
    "- Analyse our results in order to make conclusions concerning Ireland’s population stability.\n"
   ]
  },
  {
   "cell_type": "markdown",
   "id": "46c1ac4f",
   "metadata": {},
   "source": [
    "#### Data source\n",
    "The dataset for this analysis is going to be gotten from the Central Statistics Office (CSO), Ireland. The CSO is responsible for collection, compilation, extraction and dissemination of high-quality data used for analysis of economic and social important topics.\n"
   ]
  },
  {
   "cell_type": "code",
   "execution_count": null,
   "id": "eceed871",
   "metadata": {},
   "outputs": [],
   "source": []
  },
  {
   "cell_type": "code",
   "execution_count": null,
   "id": "0130dafa",
   "metadata": {},
   "outputs": [],
   "source": []
  },
  {
   "cell_type": "code",
   "execution_count": 1,
   "id": "cf4bc695",
   "metadata": {},
   "outputs": [],
   "source": [
    "import pandas as pd\n",
    "import seaborn as sns\n",
    "import numpy as np\n",
    "import matplotlib.pyplot as plt"
   ]
  },
  {
   "cell_type": "code",
   "execution_count": 2,
   "id": "aee513ad",
   "metadata": {},
   "outputs": [
    {
     "data": {
      "text/html": [
       "<div>\n",
       "<style scoped>\n",
       "    .dataframe tbody tr th:only-of-type {\n",
       "        vertical-align: middle;\n",
       "    }\n",
       "\n",
       "    .dataframe tbody tr th {\n",
       "        vertical-align: top;\n",
       "    }\n",
       "\n",
       "    .dataframe thead th {\n",
       "        text-align: right;\n",
       "    }\n",
       "</style>\n",
       "<table border=\"1\" class=\"dataframe\">\n",
       "  <thead>\n",
       "    <tr style=\"text-align: right;\">\n",
       "      <th></th>\n",
       "      <th>Statistic Label</th>\n",
       "      <th>Quarter</th>\n",
       "      <th>State</th>\n",
       "      <th>UNIT</th>\n",
       "      <th>VALUE</th>\n",
       "    </tr>\n",
       "  </thead>\n",
       "  <tbody>\n",
       "    <tr>\n",
       "      <th>0</th>\n",
       "      <td>Marriages Registered</td>\n",
       "      <td>1960Q1</td>\n",
       "      <td>State</td>\n",
       "      <td>Number</td>\n",
       "      <td>2987.0</td>\n",
       "    </tr>\n",
       "    <tr>\n",
       "      <th>1</th>\n",
       "      <td>Marriages Registered</td>\n",
       "      <td>1960Q2</td>\n",
       "      <td>State</td>\n",
       "      <td>Number</td>\n",
       "      <td>3501.0</td>\n",
       "    </tr>\n",
       "    <tr>\n",
       "      <th>2</th>\n",
       "      <td>Marriages Registered</td>\n",
       "      <td>1960Q3</td>\n",
       "      <td>State</td>\n",
       "      <td>Number</td>\n",
       "      <td>5900.0</td>\n",
       "    </tr>\n",
       "    <tr>\n",
       "      <th>3</th>\n",
       "      <td>Marriages Registered</td>\n",
       "      <td>1960Q4</td>\n",
       "      <td>State</td>\n",
       "      <td>Number</td>\n",
       "      <td>3106.0</td>\n",
       "    </tr>\n",
       "    <tr>\n",
       "      <th>4</th>\n",
       "      <td>Marriages Registered</td>\n",
       "      <td>1961Q1</td>\n",
       "      <td>State</td>\n",
       "      <td>Number</td>\n",
       "      <td>2179.0</td>\n",
       "    </tr>\n",
       "    <tr>\n",
       "      <th>...</th>\n",
       "      <td>...</td>\n",
       "      <td>...</td>\n",
       "      <td>...</td>\n",
       "      <td>...</td>\n",
       "      <td>...</td>\n",
       "    </tr>\n",
       "    <tr>\n",
       "      <th>4544</th>\n",
       "      <td>Average age of mothers giving birth</td>\n",
       "      <td>2020Q4</td>\n",
       "      <td>State</td>\n",
       "      <td>Number</td>\n",
       "      <td>NaN</td>\n",
       "    </tr>\n",
       "    <tr>\n",
       "      <th>4545</th>\n",
       "      <td>Average age of mothers giving birth</td>\n",
       "      <td>2021Q1</td>\n",
       "      <td>State</td>\n",
       "      <td>Number</td>\n",
       "      <td>NaN</td>\n",
       "    </tr>\n",
       "    <tr>\n",
       "      <th>4546</th>\n",
       "      <td>Average age of mothers giving birth</td>\n",
       "      <td>2021Q2</td>\n",
       "      <td>State</td>\n",
       "      <td>Number</td>\n",
       "      <td>NaN</td>\n",
       "    </tr>\n",
       "    <tr>\n",
       "      <th>4547</th>\n",
       "      <td>Average age of mothers giving birth</td>\n",
       "      <td>2021Q3</td>\n",
       "      <td>State</td>\n",
       "      <td>Number</td>\n",
       "      <td>NaN</td>\n",
       "    </tr>\n",
       "    <tr>\n",
       "      <th>4548</th>\n",
       "      <td>Average age of mothers giving birth</td>\n",
       "      <td>2021Q4</td>\n",
       "      <td>State</td>\n",
       "      <td>Number</td>\n",
       "      <td>NaN</td>\n",
       "    </tr>\n",
       "  </tbody>\n",
       "</table>\n",
       "<p>4549 rows × 5 columns</p>\n",
       "</div>"
      ],
      "text/plain": [
       "                          Statistic Label Quarter  State    UNIT   VALUE\n",
       "0                    Marriages Registered  1960Q1  State  Number  2987.0\n",
       "1                    Marriages Registered  1960Q2  State  Number  3501.0\n",
       "2                    Marriages Registered  1960Q3  State  Number  5900.0\n",
       "3                    Marriages Registered  1960Q4  State  Number  3106.0\n",
       "4                    Marriages Registered  1961Q1  State  Number  2179.0\n",
       "...                                   ...     ...    ...     ...     ...\n",
       "4544  Average age of mothers giving birth  2020Q4  State  Number     NaN\n",
       "4545  Average age of mothers giving birth  2021Q1  State  Number     NaN\n",
       "4546  Average age of mothers giving birth  2021Q2  State  Number     NaN\n",
       "4547  Average age of mothers giving birth  2021Q3  State  Number     NaN\n",
       "4548  Average age of mothers giving birth  2021Q4  State  Number     NaN\n",
       "\n",
       "[4549 rows x 5 columns]"
      ]
     },
     "execution_count": 2,
     "metadata": {},
     "output_type": "execute_result"
    }
   ],
   "source": [
    "df = pd.read_csv('Total Births, Deaths and Marriages Registered.csv')\n",
    "df.head(-5)"
   ]
  },
  {
   "cell_type": "code",
   "execution_count": 3,
   "id": "2e2b4a94",
   "metadata": {},
   "outputs": [
    {
     "name": "stdout",
     "output_type": "stream",
     "text": [
      "<class 'pandas.core.frame.DataFrame'>\n",
      "RangeIndex: 4554 entries, 0 to 4553\n",
      "Data columns (total 5 columns):\n",
      " #   Column           Non-Null Count  Dtype  \n",
      "---  ------           --------------  -----  \n",
      " 0   Statistic Label  4554 non-null   object \n",
      " 1   Quarter          4554 non-null   object \n",
      " 2   State            4554 non-null   object \n",
      " 3   UNIT             4554 non-null   object \n",
      " 4   VALUE            1826 non-null   float64\n",
      "dtypes: float64(1), object(4)\n",
      "memory usage: 178.0+ KB\n"
     ]
    }
   ],
   "source": [
    "df.info()"
   ]
  },
  {
   "cell_type": "code",
   "execution_count": 4,
   "id": "3c261be5",
   "metadata": {},
   "outputs": [
    {
     "data": {
      "text/html": [
       "<div>\n",
       "<style scoped>\n",
       "    .dataframe tbody tr th:only-of-type {\n",
       "        vertical-align: middle;\n",
       "    }\n",
       "\n",
       "    .dataframe tbody tr th {\n",
       "        vertical-align: top;\n",
       "    }\n",
       "\n",
       "    .dataframe thead th {\n",
       "        text-align: right;\n",
       "    }\n",
       "</style>\n",
       "<table border=\"1\" class=\"dataframe\">\n",
       "  <thead>\n",
       "    <tr style=\"text-align: right;\">\n",
       "      <th></th>\n",
       "      <th>VALUE</th>\n",
       "    </tr>\n",
       "  </thead>\n",
       "  <tbody>\n",
       "    <tr>\n",
       "      <th>count</th>\n",
       "      <td>1826.000000</td>\n",
       "    </tr>\n",
       "    <tr>\n",
       "      <th>mean</th>\n",
       "      <td>3977.795016</td>\n",
       "    </tr>\n",
       "    <tr>\n",
       "      <th>std</th>\n",
       "      <td>5587.558500</td>\n",
       "    </tr>\n",
       "    <tr>\n",
       "      <th>min</th>\n",
       "      <td>0.000000</td>\n",
       "    </tr>\n",
       "    <tr>\n",
       "      <th>25%</th>\n",
       "      <td>7.825000</td>\n",
       "    </tr>\n",
       "    <tr>\n",
       "      <th>50%</th>\n",
       "      <td>20.050000</td>\n",
       "    </tr>\n",
       "    <tr>\n",
       "      <th>75%</th>\n",
       "      <td>7348.250000</td>\n",
       "    </tr>\n",
       "    <tr>\n",
       "      <th>max</th>\n",
       "      <td>19950.000000</td>\n",
       "    </tr>\n",
       "  </tbody>\n",
       "</table>\n",
       "</div>"
      ],
      "text/plain": [
       "              VALUE\n",
       "count   1826.000000\n",
       "mean    3977.795016\n",
       "std     5587.558500\n",
       "min        0.000000\n",
       "25%        7.825000\n",
       "50%       20.050000\n",
       "75%     7348.250000\n",
       "max    19950.000000"
      ]
     },
     "execution_count": 4,
     "metadata": {},
     "output_type": "execute_result"
    }
   ],
   "source": [
    "df.describe()"
   ]
  },
  {
   "cell_type": "code",
   "execution_count": 5,
   "id": "a63732da",
   "metadata": {},
   "outputs": [
    {
     "data": {
      "text/plain": [
       "Statistic Label     0.000000\n",
       "Quarter             0.000000\n",
       "State               0.000000\n",
       "UNIT                0.000000\n",
       "VALUE              59.903382\n",
       "dtype: float64"
      ]
     },
     "execution_count": 5,
     "metadata": {},
     "output_type": "execute_result"
    }
   ],
   "source": [
    "df.isnull().mean()*100 # Porcentage of missing data"
   ]
  },
  {
   "cell_type": "code",
   "execution_count": 6,
   "id": "4908cf91",
   "metadata": {},
   "outputs": [
    {
     "data": {
      "text/plain": [
       "array(['Marriages Registered',\n",
       "       'Marriage Rate Registered per 1000 Estimated Population',\n",
       "       'Deaths Registered',\n",
       "       'Death Rate Registered per 1000 Estimated Population',\n",
       "       'Deaths of Infants under 1 Year Registered per 1000 Births',\n",
       "       'Births Registered',\n",
       "       'Birth Rate Registered per 1000 Estimated Population',\n",
       "       'Opposite sex marriages', 'Same sex marriages',\n",
       "       'Civil partnerships', 'Births registered that were first births',\n",
       "       'Births registered outside marriage', 'Opposite sex marriage rate',\n",
       "       'Same sex marriage rate', 'Civil partnership marriage rate',\n",
       "       'Percentage of first births registered',\n",
       "       'Percentage of births registered outside marriage',\n",
       "       'Average age of mothers giving birth'], dtype=object)"
      ]
     },
     "execution_count": 6,
     "metadata": {},
     "output_type": "execute_result"
    }
   ],
   "source": [
    "df['Statistic Label'].unique()"
   ]
  },
  {
   "cell_type": "code",
   "execution_count": 7,
   "id": "8a114f36",
   "metadata": {},
   "outputs": [
    {
     "data": {
      "text/plain": [
       "array(['1960Q1', '1960Q2', '1960Q3', '1960Q4', '1961Q1', '1961Q2',\n",
       "       '1961Q3', '1961Q4', '1962Q1', '1962Q2', '1962Q3', '1962Q4',\n",
       "       '1963Q1', '1963Q2', '1963Q3', '1963Q4', '1964Q1', '1964Q2',\n",
       "       '1964Q3', '1964Q4', '1965Q1', '1965Q2', '1965Q3', '1965Q4',\n",
       "       '1966Q1', '1966Q2', '1966Q3', '1966Q4', '1967Q1', '1967Q2',\n",
       "       '1967Q3', '1967Q4', '1968Q1', '1968Q2', '1968Q3', '1968Q4',\n",
       "       '1969Q1', '1969Q2', '1969Q3', '1969Q4', '1970Q1', '1970Q2',\n",
       "       '1970Q3', '1970Q4', '1971Q1', '1971Q2', '1971Q3', '1971Q4',\n",
       "       '1972Q1', '1972Q2', '1972Q3', '1972Q4', '1973Q1', '1973Q2',\n",
       "       '1973Q3', '1973Q4', '1974Q1', '1974Q2', '1974Q3', '1974Q4',\n",
       "       '1975Q1', '1975Q2', '1975Q3', '1975Q4', '1976Q1', '1976Q2',\n",
       "       '1976Q3', '1976Q4', '1977Q1', '1977Q2', '1977Q3', '1977Q4',\n",
       "       '1978Q1', '1978Q2', '1978Q3', '1978Q4', '1979Q1', '1979Q2',\n",
       "       '1979Q3', '1979Q4', '1980Q1', '1980Q2', '1980Q3', '1980Q4',\n",
       "       '1981Q1', '1981Q2', '1981Q3', '1981Q4', '1982Q1', '1982Q2',\n",
       "       '1982Q3', '1982Q4', '1983Q1', '1983Q2', '1983Q3', '1983Q4',\n",
       "       '1984Q1', '1984Q2', '1984Q3', '1984Q4', '1985Q1', '1985Q2',\n",
       "       '1985Q3', '1985Q4', '1986Q1', '1986Q2', '1986Q3', '1986Q4',\n",
       "       '1987Q1', '1987Q2', '1987Q3', '1987Q4', '1988Q1', '1988Q2',\n",
       "       '1988Q3', '1988Q4', '1989Q1', '1989Q2', '1989Q3', '1989Q4',\n",
       "       '1990Q1', '1990Q2', '1990Q3', '1990Q4', '1991Q1', '1991Q2',\n",
       "       '1991Q3', '1991Q4', '1992Q1', '1992Q2', '1992Q3', '1992Q4',\n",
       "       '1993Q1', '1993Q2', '1993Q3', '1993Q4', '1994Q1', '1994Q2',\n",
       "       '1994Q3', '1994Q4', '1995Q1', '1995Q2', '1995Q3', '1995Q4',\n",
       "       '1996Q1', '1996Q2', '1996Q3', '1996Q4', '1997Q1', '1997Q2',\n",
       "       '1997Q3', '1997Q4', '1998Q1', '1998Q2', '1998Q3', '1998Q4',\n",
       "       '1999Q1', '1999Q2', '1999Q3', '1999Q4', '2000Q1', '2000Q2',\n",
       "       '2000Q3', '2000Q4', '2001Q1', '2001Q2', '2001Q3', '2001Q4',\n",
       "       '2002Q1', '2002Q2', '2002Q3', '2002Q4', '2003Q1', '2003Q2',\n",
       "       '2003Q3', '2003Q4', '2004Q1', '2004Q2', '2004Q3', '2004Q4',\n",
       "       '2005Q1', '2005Q2', '2005Q3', '2005Q4', '2006Q1', '2006Q2',\n",
       "       '2006Q3', '2006Q4', '2007Q1', '2007Q2', '2007Q3', '2007Q4',\n",
       "       '2008Q1', '2008Q2', '2008Q3', '2008Q4', '2009Q1', '2009Q2',\n",
       "       '2009Q3', '2009Q4', '2010Q1', '2010Q2', '2010Q3', '2010Q4',\n",
       "       '2011Q1', '2011Q2', '2011Q3', '2011Q4', '2012Q1', '2012Q2',\n",
       "       '2012Q3', '2012Q4', '2013Q1', '2013Q2', '2013Q3', '2013Q4',\n",
       "       '2014Q1', '2014Q2', '2014Q3', '2014Q4', '2015Q1', '2015Q2',\n",
       "       '2015Q3', '2015Q4', '2016Q1', '2016Q2', '2016Q3', '2016Q4',\n",
       "       '2017Q1', '2017Q2', '2017Q3', '2017Q4', '2018Q1', '2018Q2',\n",
       "       '2018Q3', '2018Q4', '2019Q1', '2019Q2', '2019Q3', '2019Q4',\n",
       "       '2020Q1', '2020Q2', '2020Q3', '2020Q4', '2021Q1', '2021Q2',\n",
       "       '2021Q3', '2021Q4', '2022Q1', '2022Q2', '2022Q3', '2022Q4',\n",
       "       '2023Q1'], dtype=object)"
      ]
     },
     "execution_count": 7,
     "metadata": {},
     "output_type": "execute_result"
    }
   ],
   "source": [
    "df['Quarter'].unique()"
   ]
  },
  {
   "cell_type": "code",
   "execution_count": 8,
   "id": "56a8c9d5",
   "metadata": {},
   "outputs": [
    {
     "data": {
      "text/plain": [
       "array(['State'], dtype=object)"
      ]
     },
     "execution_count": 8,
     "metadata": {},
     "output_type": "execute_result"
    }
   ],
   "source": [
    "df['State'].unique()"
   ]
  },
  {
   "cell_type": "code",
   "execution_count": 9,
   "id": "0406ee98",
   "metadata": {},
   "outputs": [
    {
     "data": {
      "text/html": [
       "<div>\n",
       "<style scoped>\n",
       "    .dataframe tbody tr th:only-of-type {\n",
       "        vertical-align: middle;\n",
       "    }\n",
       "\n",
       "    .dataframe tbody tr th {\n",
       "        vertical-align: top;\n",
       "    }\n",
       "\n",
       "    .dataframe thead th {\n",
       "        text-align: right;\n",
       "    }\n",
       "</style>\n",
       "<table border=\"1\" class=\"dataframe\">\n",
       "  <thead>\n",
       "    <tr style=\"text-align: right;\">\n",
       "      <th></th>\n",
       "      <th>Statistic Label</th>\n",
       "      <th>Quarter</th>\n",
       "      <th>UNIT</th>\n",
       "      <th>VALUE</th>\n",
       "    </tr>\n",
       "  </thead>\n",
       "  <tbody>\n",
       "    <tr>\n",
       "      <th>0</th>\n",
       "      <td>Marriages Registered</td>\n",
       "      <td>1960Q1</td>\n",
       "      <td>Number</td>\n",
       "      <td>2987.0</td>\n",
       "    </tr>\n",
       "    <tr>\n",
       "      <th>1</th>\n",
       "      <td>Marriages Registered</td>\n",
       "      <td>1960Q2</td>\n",
       "      <td>Number</td>\n",
       "      <td>3501.0</td>\n",
       "    </tr>\n",
       "    <tr>\n",
       "      <th>2</th>\n",
       "      <td>Marriages Registered</td>\n",
       "      <td>1960Q3</td>\n",
       "      <td>Number</td>\n",
       "      <td>5900.0</td>\n",
       "    </tr>\n",
       "    <tr>\n",
       "      <th>3</th>\n",
       "      <td>Marriages Registered</td>\n",
       "      <td>1960Q4</td>\n",
       "      <td>Number</td>\n",
       "      <td>3106.0</td>\n",
       "    </tr>\n",
       "    <tr>\n",
       "      <th>4</th>\n",
       "      <td>Marriages Registered</td>\n",
       "      <td>1961Q1</td>\n",
       "      <td>Number</td>\n",
       "      <td>2179.0</td>\n",
       "    </tr>\n",
       "  </tbody>\n",
       "</table>\n",
       "</div>"
      ],
      "text/plain": [
       "        Statistic Label Quarter    UNIT   VALUE\n",
       "0  Marriages Registered  1960Q1  Number  2987.0\n",
       "1  Marriages Registered  1960Q2  Number  3501.0\n",
       "2  Marriages Registered  1960Q3  Number  5900.0\n",
       "3  Marriages Registered  1960Q4  Number  3106.0\n",
       "4  Marriages Registered  1961Q1  Number  2179.0"
      ]
     },
     "execution_count": 9,
     "metadata": {},
     "output_type": "execute_result"
    }
   ],
   "source": [
    "df.drop(columns='State', inplace=True)\n",
    "df.head()"
   ]
  },
  {
   "cell_type": "code",
   "execution_count": 10,
   "id": "b430b6ee",
   "metadata": {},
   "outputs": [
    {
     "data": {
      "text/plain": [
       "array(['Number', '%'], dtype=object)"
      ]
     },
     "execution_count": 10,
     "metadata": {},
     "output_type": "execute_result"
    }
   ],
   "source": [
    "df['UNIT'].unique()"
   ]
  },
  {
   "cell_type": "code",
   "execution_count": 11,
   "id": "18b7ebdb",
   "metadata": {},
   "outputs": [
    {
     "data": {
      "text/plain": [
       "array(['Number'], dtype=object)"
      ]
     },
     "execution_count": 11,
     "metadata": {},
     "output_type": "execute_result"
    }
   ],
   "source": [
    "df = df[df['UNIT'].str.contains('%')==False]\n",
    "df['UNIT'].unique()"
   ]
  },
  {
   "cell_type": "code",
   "execution_count": 12,
   "id": "91498fdd",
   "metadata": {},
   "outputs": [
    {
     "data": {
      "text/html": [
       "<div>\n",
       "<style scoped>\n",
       "    .dataframe tbody tr th:only-of-type {\n",
       "        vertical-align: middle;\n",
       "    }\n",
       "\n",
       "    .dataframe tbody tr th {\n",
       "        vertical-align: top;\n",
       "    }\n",
       "\n",
       "    .dataframe thead th {\n",
       "        text-align: right;\n",
       "    }\n",
       "</style>\n",
       "<table border=\"1\" class=\"dataframe\">\n",
       "  <thead>\n",
       "    <tr style=\"text-align: right;\">\n",
       "      <th></th>\n",
       "      <th>Statistic Label</th>\n",
       "      <th>Quarter</th>\n",
       "      <th>VALUE</th>\n",
       "    </tr>\n",
       "  </thead>\n",
       "  <tbody>\n",
       "    <tr>\n",
       "      <th>0</th>\n",
       "      <td>Marriages Registered</td>\n",
       "      <td>1960Q1</td>\n",
       "      <td>2987.0</td>\n",
       "    </tr>\n",
       "    <tr>\n",
       "      <th>1</th>\n",
       "      <td>Marriages Registered</td>\n",
       "      <td>1960Q2</td>\n",
       "      <td>3501.0</td>\n",
       "    </tr>\n",
       "    <tr>\n",
       "      <th>2</th>\n",
       "      <td>Marriages Registered</td>\n",
       "      <td>1960Q3</td>\n",
       "      <td>5900.0</td>\n",
       "    </tr>\n",
       "    <tr>\n",
       "      <th>3</th>\n",
       "      <td>Marriages Registered</td>\n",
       "      <td>1960Q4</td>\n",
       "      <td>3106.0</td>\n",
       "    </tr>\n",
       "    <tr>\n",
       "      <th>4</th>\n",
       "      <td>Marriages Registered</td>\n",
       "      <td>1961Q1</td>\n",
       "      <td>2179.0</td>\n",
       "    </tr>\n",
       "  </tbody>\n",
       "</table>\n",
       "</div>"
      ],
      "text/plain": [
       "        Statistic Label Quarter   VALUE\n",
       "0  Marriages Registered  1960Q1  2987.0\n",
       "1  Marriages Registered  1960Q2  3501.0\n",
       "2  Marriages Registered  1960Q3  5900.0\n",
       "3  Marriages Registered  1960Q4  3106.0\n",
       "4  Marriages Registered  1961Q1  2179.0"
      ]
     },
     "execution_count": 12,
     "metadata": {},
     "output_type": "execute_result"
    }
   ],
   "source": [
    "df.drop(columns='UNIT', inplace=True)\n",
    "df.head()"
   ]
  },
  {
   "cell_type": "code",
   "execution_count": 13,
   "id": "a7a77709",
   "metadata": {},
   "outputs": [
    {
     "data": {
      "text/html": [
       "<div>\n",
       "<style scoped>\n",
       "    .dataframe tbody tr th:only-of-type {\n",
       "        vertical-align: middle;\n",
       "    }\n",
       "\n",
       "    .dataframe tbody tr th {\n",
       "        vertical-align: top;\n",
       "    }\n",
       "\n",
       "    .dataframe thead th {\n",
       "        text-align: right;\n",
       "    }\n",
       "</style>\n",
       "<table border=\"1\" class=\"dataframe\">\n",
       "  <thead>\n",
       "    <tr style=\"text-align: right;\">\n",
       "      <th></th>\n",
       "      <th>label_lc</th>\n",
       "    </tr>\n",
       "  </thead>\n",
       "  <tbody>\n",
       "    <tr>\n",
       "      <th>0</th>\n",
       "      <td>marriages registered</td>\n",
       "    </tr>\n",
       "    <tr>\n",
       "      <th>1</th>\n",
       "      <td>marriages registered</td>\n",
       "    </tr>\n",
       "    <tr>\n",
       "      <th>2</th>\n",
       "      <td>marriages registered</td>\n",
       "    </tr>\n",
       "    <tr>\n",
       "      <th>3</th>\n",
       "      <td>marriages registered</td>\n",
       "    </tr>\n",
       "    <tr>\n",
       "      <th>4</th>\n",
       "      <td>marriages registered</td>\n",
       "    </tr>\n",
       "  </tbody>\n",
       "</table>\n",
       "</div>"
      ],
      "text/plain": [
       "               label_lc\n",
       "0  marriages registered\n",
       "1  marriages registered\n",
       "2  marriages registered\n",
       "3  marriages registered\n",
       "4  marriages registered"
      ]
     },
     "execution_count": 13,
     "metadata": {},
     "output_type": "execute_result"
    }
   ],
   "source": [
    "df['label_lc'] = df['Statistic Label'].apply(lambda x: ' '.join(x.lower() for x in x.split())) # put everything in lower case\n",
    "df[['label_lc']].head()"
   ]
  },
  {
   "cell_type": "code",
   "execution_count": 14,
   "id": "6a5b8eb7",
   "metadata": {},
   "outputs": [],
   "source": [
    "df.rename(columns={\"Quarter\": \"year\"}, inplace=True)\n",
    "df.rename(columns={\"VALUE\": \"value\"}, inplace=True)"
   ]
  },
  {
   "cell_type": "code",
   "execution_count": 15,
   "id": "7b5bafaf",
   "metadata": {},
   "outputs": [
    {
     "data": {
      "text/plain": [
       "0       1960\n",
       "1       1960\n",
       "2       1960\n",
       "3       1960\n",
       "4       1961\n",
       "        ... \n",
       "4549    2022\n",
       "4550    2022\n",
       "4551    2022\n",
       "4552    2022\n",
       "4553    2023\n",
       "Name: year, Length: 3289, dtype: object"
      ]
     },
     "execution_count": 15,
     "metadata": {},
     "output_type": "execute_result"
    }
   ],
   "source": [
    "# Since we are analysing the population change per year, we do not need the values per quater, therefore we will remove\n",
    "# Q1, Q2, Q3 and Q4 from the Quater column and then we will be able to asign the column as a integer.\n",
    "\n",
    "df['year'] = df['year'].str[:-2] # Remove the 2 last characters\n",
    "df['year']"
   ]
  },
  {
   "cell_type": "code",
   "execution_count": 16,
   "id": "f5e02ce9",
   "metadata": {},
   "outputs": [
    {
     "data": {
      "text/plain": [
       "Statistic Label     object\n",
       "year                 int32\n",
       "value              float64\n",
       "label_lc            object\n",
       "dtype: object"
      ]
     },
     "execution_count": 16,
     "metadata": {},
     "output_type": "execute_result"
    }
   ],
   "source": [
    "df['year'] = df['year'].astype(int) # Assign Quarter column as a type integer\n",
    "df.dtypes"
   ]
  },
  {
   "cell_type": "code",
   "execution_count": 17,
   "id": "4f2e67da",
   "metadata": {},
   "outputs": [
    {
     "data": {
      "text/plain": [
       "year  label_lc                                                 \n",
       "1960  average age of mothers giving birth                              0.0\n",
       "      birth rate registered per 1000 estimated population             85.7\n",
       "      births registered                                            60730.0\n",
       "      births registered outside marriage                               0.0\n",
       "      births registered that were first births                         0.0\n",
       "      civil partnerships                                               0.0\n",
       "      death rate registered per 1000 estimated population             45.9\n",
       "      deaths of infants under 1 year registered per 1000 births      117.5\n",
       "      deaths registered                                            32658.0\n",
       "      marriage rate registered per 1000 estimated population          21.8\n",
       "      marriages registered                                         15494.0\n",
       "      opposite sex marriages                                           0.0\n",
       "      same sex marriages                                               0.0\n",
       "1961  average age of mothers giving birth                              0.0\n",
       "      birth rate registered per 1000 estimated population             84.0\n",
       "      births registered                                            59826.0\n",
       "      births registered outside marriage                               0.0\n",
       "      births registered that were first births                         0.0\n",
       "      civil partnerships                                               0.0\n",
       "      death rate registered per 1000 estimated population             49.5\n",
       "Name: value, dtype: float64"
      ]
     },
     "execution_count": 17,
     "metadata": {},
     "output_type": "execute_result"
    }
   ],
   "source": [
    "df_group = df.groupby(['year','label_lc'])['value'].sum()\n",
    "df_group.head(20)"
   ]
  },
  {
   "cell_type": "code",
   "execution_count": 18,
   "id": "5e34476e",
   "metadata": {},
   "outputs": [
    {
     "data": {
      "text/plain": [
       "array(['marriages registered', 'deaths registered', 'births registered'],\n",
       "      dtype=object)"
      ]
     },
     "execution_count": 18,
     "metadata": {},
     "output_type": "execute_result"
    }
   ],
   "source": [
    "df = df[df['label_lc'].str.contains('average age of mothers giving birth')==False]\n",
    "df = df[df['label_lc'].str.contains('births registered outside marriage')==False]\n",
    "df = df[df['label_lc'].str.contains('births registered that were first births')==False]\n",
    "df = df[df['label_lc'].str.contains('civil partnerships')==False]\n",
    "df = df[df['label_lc'].str.contains('opposite sex marriages')==False]\n",
    "df = df[df['label_lc'].str.contains('same sex marriages')==False]\n",
    "df = df[df['label_lc'].str.contains('birth rate registered per 1000 estimated population')==False]\n",
    "df = df[df['label_lc'].str.contains('death rate registered per 1000 estimated population')==False]\n",
    "df = df[df['label_lc'].str.contains('deaths of infants under 1 year registered per 1000 births')==False]\n",
    "df = df[df['label_lc'].str.contains('marriage rate registered per 1000 estimated population')==False]\n",
    "\n",
    "df['label_lc'].unique()"
   ]
  },
  {
   "cell_type": "code",
   "execution_count": 19,
   "id": "85d4f0a6",
   "metadata": {},
   "outputs": [
    {
     "data": {
      "text/plain": [
       "Statistic Label    object\n",
       "year                int32\n",
       "value               int32\n",
       "label_lc           object\n",
       "dtype: object"
      ]
     },
     "execution_count": 19,
     "metadata": {},
     "output_type": "execute_result"
    }
   ],
   "source": [
    "df['value'] = df['value'].astype(int) # Assign VALUE column as a type integer, since a birth or death can only be an integer.\n",
    "df.dtypes"
   ]
  },
  {
   "cell_type": "code",
   "execution_count": 20,
   "id": "0e4066c7",
   "metadata": {},
   "outputs": [
    {
     "data": {
      "text/plain": [
       "array([1960, 1961, 1962, 1963, 1964, 1965, 1966, 1967, 1968, 1969, 1970,\n",
       "       1971, 1972, 1973, 1974, 1975, 1976, 1977, 1978, 1979, 1980, 1981,\n",
       "       1982, 1983, 1984, 1985, 1986, 1987, 1988, 1989, 1990, 1991, 1992,\n",
       "       1993, 1994, 1995, 1996, 1997, 1998, 1999, 2000, 2001, 2002, 2003,\n",
       "       2004, 2005, 2006, 2007, 2008, 2009, 2010, 2011, 2012, 2013, 2014,\n",
       "       2015, 2016, 2017, 2018, 2019, 2020, 2021, 2022])"
      ]
     },
     "execution_count": 20,
     "metadata": {},
     "output_type": "execute_result"
    }
   ],
   "source": [
    "df = df.query('year != 2023')\n",
    "df['year'].unique()"
   ]
  },
  {
   "cell_type": "code",
   "execution_count": 21,
   "id": "0290cc86",
   "metadata": {},
   "outputs": [
    {
     "data": {
      "text/html": [
       "<div>\n",
       "<style scoped>\n",
       "    .dataframe tbody tr th:only-of-type {\n",
       "        vertical-align: middle;\n",
       "    }\n",
       "\n",
       "    .dataframe tbody tr th {\n",
       "        vertical-align: top;\n",
       "    }\n",
       "\n",
       "    .dataframe thead th {\n",
       "        text-align: right;\n",
       "    }\n",
       "</style>\n",
       "<table border=\"1\" class=\"dataframe\">\n",
       "  <thead>\n",
       "    <tr style=\"text-align: right;\">\n",
       "      <th></th>\n",
       "      <th>Statistic Label</th>\n",
       "      <th>year</th>\n",
       "      <th>value</th>\n",
       "      <th>label_lc</th>\n",
       "    </tr>\n",
       "  </thead>\n",
       "  <tbody>\n",
       "    <tr>\n",
       "      <th>0</th>\n",
       "      <td>Marriages Registered</td>\n",
       "      <td>1960</td>\n",
       "      <td>2987</td>\n",
       "      <td>marriages registered</td>\n",
       "    </tr>\n",
       "    <tr>\n",
       "      <th>1</th>\n",
       "      <td>Marriages Registered</td>\n",
       "      <td>1960</td>\n",
       "      <td>3501</td>\n",
       "      <td>marriages registered</td>\n",
       "    </tr>\n",
       "    <tr>\n",
       "      <th>2</th>\n",
       "      <td>Marriages Registered</td>\n",
       "      <td>1960</td>\n",
       "      <td>5900</td>\n",
       "      <td>marriages registered</td>\n",
       "    </tr>\n",
       "    <tr>\n",
       "      <th>3</th>\n",
       "      <td>Marriages Registered</td>\n",
       "      <td>1960</td>\n",
       "      <td>3106</td>\n",
       "      <td>marriages registered</td>\n",
       "    </tr>\n",
       "    <tr>\n",
       "      <th>4</th>\n",
       "      <td>Marriages Registered</td>\n",
       "      <td>1961</td>\n",
       "      <td>2179</td>\n",
       "      <td>marriages registered</td>\n",
       "    </tr>\n",
       "  </tbody>\n",
       "</table>\n",
       "</div>"
      ],
      "text/plain": [
       "        Statistic Label  year  value              label_lc\n",
       "0  Marriages Registered  1960   2987  marriages registered\n",
       "1  Marriages Registered  1960   3501  marriages registered\n",
       "2  Marriages Registered  1960   5900  marriages registered\n",
       "3  Marriages Registered  1960   3106  marriages registered\n",
       "4  Marriages Registered  1961   2179  marriages registered"
      ]
     },
     "execution_count": 21,
     "metadata": {},
     "output_type": "execute_result"
    }
   ],
   "source": [
    "df.head()"
   ]
  },
  {
   "cell_type": "code",
   "execution_count": 22,
   "id": "efe34737",
   "metadata": {},
   "outputs": [
    {
     "data": {
      "text/html": [
       "<div>\n",
       "<style scoped>\n",
       "    .dataframe tbody tr th:only-of-type {\n",
       "        vertical-align: middle;\n",
       "    }\n",
       "\n",
       "    .dataframe tbody tr th {\n",
       "        vertical-align: top;\n",
       "    }\n",
       "\n",
       "    .dataframe thead th {\n",
       "        text-align: right;\n",
       "    }\n",
       "</style>\n",
       "<table border=\"1\" class=\"dataframe\">\n",
       "  <thead>\n",
       "    <tr style=\"text-align: right;\">\n",
       "      <th></th>\n",
       "      <th>year</th>\n",
       "      <th>value</th>\n",
       "      <th>label_lc</th>\n",
       "    </tr>\n",
       "  </thead>\n",
       "  <tbody>\n",
       "    <tr>\n",
       "      <th>0</th>\n",
       "      <td>1960</td>\n",
       "      <td>2987</td>\n",
       "      <td>marriages registered</td>\n",
       "    </tr>\n",
       "    <tr>\n",
       "      <th>1</th>\n",
       "      <td>1960</td>\n",
       "      <td>3501</td>\n",
       "      <td>marriages registered</td>\n",
       "    </tr>\n",
       "    <tr>\n",
       "      <th>2</th>\n",
       "      <td>1960</td>\n",
       "      <td>5900</td>\n",
       "      <td>marriages registered</td>\n",
       "    </tr>\n",
       "    <tr>\n",
       "      <th>3</th>\n",
       "      <td>1960</td>\n",
       "      <td>3106</td>\n",
       "      <td>marriages registered</td>\n",
       "    </tr>\n",
       "    <tr>\n",
       "      <th>4</th>\n",
       "      <td>1961</td>\n",
       "      <td>2179</td>\n",
       "      <td>marriages registered</td>\n",
       "    </tr>\n",
       "  </tbody>\n",
       "</table>\n",
       "</div>"
      ],
      "text/plain": [
       "   year  value              label_lc\n",
       "0  1960   2987  marriages registered\n",
       "1  1960   3501  marriages registered\n",
       "2  1960   5900  marriages registered\n",
       "3  1960   3106  marriages registered\n",
       "4  1961   2179  marriages registered"
      ]
     },
     "execution_count": 22,
     "metadata": {},
     "output_type": "execute_result"
    }
   ],
   "source": [
    "df.drop(columns='Statistic Label', inplace=True)\n",
    "df.head()"
   ]
  },
  {
   "cell_type": "code",
   "execution_count": 23,
   "id": "3febe637",
   "metadata": {},
   "outputs": [
    {
     "data": {
      "text/html": [
       "<div>\n",
       "<style scoped>\n",
       "    .dataframe tbody tr th:only-of-type {\n",
       "        vertical-align: middle;\n",
       "    }\n",
       "\n",
       "    .dataframe tbody tr th {\n",
       "        vertical-align: top;\n",
       "    }\n",
       "\n",
       "    .dataframe thead th {\n",
       "        text-align: right;\n",
       "    }\n",
       "</style>\n",
       "<table border=\"1\" class=\"dataframe\">\n",
       "  <thead>\n",
       "    <tr style=\"text-align: right;\">\n",
       "      <th></th>\n",
       "      <th>year</th>\n",
       "      <th>label_lc</th>\n",
       "      <th>value</th>\n",
       "    </tr>\n",
       "  </thead>\n",
       "  <tbody>\n",
       "    <tr>\n",
       "      <th>0</th>\n",
       "      <td>1960</td>\n",
       "      <td>births registered</td>\n",
       "      <td>60730</td>\n",
       "    </tr>\n",
       "    <tr>\n",
       "      <th>1</th>\n",
       "      <td>1960</td>\n",
       "      <td>deaths registered</td>\n",
       "      <td>32658</td>\n",
       "    </tr>\n",
       "    <tr>\n",
       "      <th>2</th>\n",
       "      <td>1960</td>\n",
       "      <td>marriages registered</td>\n",
       "      <td>15494</td>\n",
       "    </tr>\n",
       "    <tr>\n",
       "      <th>3</th>\n",
       "      <td>1961</td>\n",
       "      <td>births registered</td>\n",
       "      <td>59826</td>\n",
       "    </tr>\n",
       "    <tr>\n",
       "      <th>4</th>\n",
       "      <td>1961</td>\n",
       "      <td>deaths registered</td>\n",
       "      <td>34548</td>\n",
       "    </tr>\n",
       "    <tr>\n",
       "      <th>5</th>\n",
       "      <td>1961</td>\n",
       "      <td>marriages registered</td>\n",
       "      <td>15140</td>\n",
       "    </tr>\n",
       "    <tr>\n",
       "      <th>6</th>\n",
       "      <td>1962</td>\n",
       "      <td>births registered</td>\n",
       "      <td>61611</td>\n",
       "    </tr>\n",
       "    <tr>\n",
       "      <th>7</th>\n",
       "      <td>1962</td>\n",
       "      <td>deaths registered</td>\n",
       "      <td>33643</td>\n",
       "    </tr>\n",
       "    <tr>\n",
       "      <th>8</th>\n",
       "      <td>1962</td>\n",
       "      <td>marriages registered</td>\n",
       "      <td>15409</td>\n",
       "    </tr>\n",
       "    <tr>\n",
       "      <th>9</th>\n",
       "      <td>1963</td>\n",
       "      <td>births registered</td>\n",
       "      <td>62966</td>\n",
       "    </tr>\n",
       "    <tr>\n",
       "      <th>10</th>\n",
       "      <td>1963</td>\n",
       "      <td>deaths registered</td>\n",
       "      <td>33558</td>\n",
       "    </tr>\n",
       "    <tr>\n",
       "      <th>11</th>\n",
       "      <td>1963</td>\n",
       "      <td>marriages registered</td>\n",
       "      <td>15298</td>\n",
       "    </tr>\n",
       "    <tr>\n",
       "      <th>12</th>\n",
       "      <td>1964</td>\n",
       "      <td>births registered</td>\n",
       "      <td>64008</td>\n",
       "    </tr>\n",
       "    <tr>\n",
       "      <th>13</th>\n",
       "      <td>1964</td>\n",
       "      <td>deaths registered</td>\n",
       "      <td>32473</td>\n",
       "    </tr>\n",
       "    <tr>\n",
       "      <th>14</th>\n",
       "      <td>1964</td>\n",
       "      <td>marriages registered</td>\n",
       "      <td>15941</td>\n",
       "    </tr>\n",
       "    <tr>\n",
       "      <th>15</th>\n",
       "      <td>1965</td>\n",
       "      <td>births registered</td>\n",
       "      <td>63443</td>\n",
       "    </tr>\n",
       "    <tr>\n",
       "      <th>16</th>\n",
       "      <td>1965</td>\n",
       "      <td>deaths registered</td>\n",
       "      <td>32778</td>\n",
       "    </tr>\n",
       "    <tr>\n",
       "      <th>17</th>\n",
       "      <td>1965</td>\n",
       "      <td>marriages registered</td>\n",
       "      <td>16664</td>\n",
       "    </tr>\n",
       "    <tr>\n",
       "      <th>18</th>\n",
       "      <td>1966</td>\n",
       "      <td>births registered</td>\n",
       "      <td>62143</td>\n",
       "    </tr>\n",
       "    <tr>\n",
       "      <th>19</th>\n",
       "      <td>1966</td>\n",
       "      <td>deaths registered</td>\n",
       "      <td>34725</td>\n",
       "    </tr>\n",
       "  </tbody>\n",
       "</table>\n",
       "</div>"
      ],
      "text/plain": [
       "    year              label_lc  value\n",
       "0   1960     births registered  60730\n",
       "1   1960     deaths registered  32658\n",
       "2   1960  marriages registered  15494\n",
       "3   1961     births registered  59826\n",
       "4   1961     deaths registered  34548\n",
       "5   1961  marriages registered  15140\n",
       "6   1962     births registered  61611\n",
       "7   1962     deaths registered  33643\n",
       "8   1962  marriages registered  15409\n",
       "9   1963     births registered  62966\n",
       "10  1963     deaths registered  33558\n",
       "11  1963  marriages registered  15298\n",
       "12  1964     births registered  64008\n",
       "13  1964     deaths registered  32473\n",
       "14  1964  marriages registered  15941\n",
       "15  1965     births registered  63443\n",
       "16  1965     deaths registered  32778\n",
       "17  1965  marriages registered  16664\n",
       "18  1966     births registered  62143\n",
       "19  1966     deaths registered  34725"
      ]
     },
     "execution_count": 23,
     "metadata": {},
     "output_type": "execute_result"
    }
   ],
   "source": [
    "df_group = df.groupby(['year','label_lc'], as_index=False)['value'].sum()\n",
    "df_group.head(20)"
   ]
  },
  {
   "cell_type": "code",
   "execution_count": 24,
   "id": "ae19fc01",
   "metadata": {},
   "outputs": [
    {
     "data": {
      "text/html": [
       "<div>\n",
       "<style scoped>\n",
       "    .dataframe tbody tr th:only-of-type {\n",
       "        vertical-align: middle;\n",
       "    }\n",
       "\n",
       "    .dataframe tbody tr th {\n",
       "        vertical-align: top;\n",
       "    }\n",
       "\n",
       "    .dataframe thead th {\n",
       "        text-align: right;\n",
       "    }\n",
       "</style>\n",
       "<table border=\"1\" class=\"dataframe\">\n",
       "  <thead>\n",
       "    <tr style=\"text-align: right;\">\n",
       "      <th></th>\n",
       "      <th>year</th>\n",
       "      <th>label_lc</th>\n",
       "      <th>value</th>\n",
       "    </tr>\n",
       "  </thead>\n",
       "  <tbody>\n",
       "    <tr>\n",
       "      <th>0</th>\n",
       "      <td>1960</td>\n",
       "      <td>births_registered</td>\n",
       "      <td>60730</td>\n",
       "    </tr>\n",
       "    <tr>\n",
       "      <th>1</th>\n",
       "      <td>1960</td>\n",
       "      <td>deaths_registered</td>\n",
       "      <td>32658</td>\n",
       "    </tr>\n",
       "    <tr>\n",
       "      <th>2</th>\n",
       "      <td>1960</td>\n",
       "      <td>marriages_registered</td>\n",
       "      <td>15494</td>\n",
       "    </tr>\n",
       "    <tr>\n",
       "      <th>3</th>\n",
       "      <td>1961</td>\n",
       "      <td>births_registered</td>\n",
       "      <td>59826</td>\n",
       "    </tr>\n",
       "    <tr>\n",
       "      <th>4</th>\n",
       "      <td>1961</td>\n",
       "      <td>deaths_registered</td>\n",
       "      <td>34548</td>\n",
       "    </tr>\n",
       "  </tbody>\n",
       "</table>\n",
       "</div>"
      ],
      "text/plain": [
       "   year              label_lc  value\n",
       "0  1960     births_registered  60730\n",
       "1  1960     deaths_registered  32658\n",
       "2  1960  marriages_registered  15494\n",
       "3  1961     births_registered  59826\n",
       "4  1961     deaths_registered  34548"
      ]
     },
     "execution_count": 24,
     "metadata": {},
     "output_type": "execute_result"
    }
   ],
   "source": [
    "df_group['label_lc'].replace('births registered','births_registered', inplace=True)\n",
    "df_group['label_lc'].replace('deaths registered','deaths_registered', inplace=True)\n",
    "df_group['label_lc'].replace('marriages registered','marriages_registered', inplace=True)\n",
    "df_group.head()"
   ]
  },
  {
   "cell_type": "code",
   "execution_count": 25,
   "id": "5f3c7e80",
   "metadata": {},
   "outputs": [
    {
     "name": "stdout",
     "output_type": "stream",
     "text": [
      "<class 'pandas.core.frame.DataFrame'>\n",
      "RangeIndex: 189 entries, 0 to 188\n",
      "Data columns (total 3 columns):\n",
      " #   Column    Non-Null Count  Dtype \n",
      "---  ------    --------------  ----- \n",
      " 0   year      189 non-null    int32 \n",
      " 1   label_lc  189 non-null    object\n",
      " 2   value     189 non-null    int32 \n",
      "dtypes: int32(2), object(1)\n",
      "memory usage: 3.1+ KB\n"
     ]
    }
   ],
   "source": [
    "df_group.info()"
   ]
  },
  {
   "cell_type": "code",
   "execution_count": 26,
   "id": "7b103665",
   "metadata": {},
   "outputs": [
    {
     "data": {
      "text/plain": [
       "year        0.0\n",
       "label_lc    0.0\n",
       "value       0.0\n",
       "dtype: float64"
      ]
     },
     "execution_count": 26,
     "metadata": {},
     "output_type": "execute_result"
    }
   ],
   "source": [
    "df_group.isnull().mean()*100 # Porcentage of missing data"
   ]
  },
  {
   "cell_type": "code",
   "execution_count": null,
   "id": "14cac0a9",
   "metadata": {},
   "outputs": [],
   "source": []
  },
  {
   "cell_type": "code",
   "execution_count": null,
   "id": "828d1685",
   "metadata": {},
   "outputs": [],
   "source": []
  },
  {
   "cell_type": "code",
   "execution_count": null,
   "id": "e6b60eb2",
   "metadata": {},
   "outputs": [],
   "source": []
  },
  {
   "cell_type": "code",
   "execution_count": null,
   "id": "753170d0",
   "metadata": {},
   "outputs": [],
   "source": []
  },
  {
   "cell_type": "code",
   "execution_count": null,
   "id": "7e03c440",
   "metadata": {},
   "outputs": [],
   "source": []
  }
 ],
 "metadata": {
  "kernelspec": {
   "display_name": "Python 3 (ipykernel)",
   "language": "python",
   "name": "python3"
  },
  "language_info": {
   "codemirror_mode": {
    "name": "ipython",
    "version": 3
   },
   "file_extension": ".py",
   "mimetype": "text/x-python",
   "name": "python",
   "nbconvert_exporter": "python",
   "pygments_lexer": "ipython3",
   "version": "3.11.4"
  }
 },
 "nbformat": 4,
 "nbformat_minor": 5
}
